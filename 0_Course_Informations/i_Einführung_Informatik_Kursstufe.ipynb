{
 "cells": [
  {
   "cell_type": "markdown",
   "metadata": {},
   "source": [
    "## i. Informatik in der Kursstufe \n"
   ]
  },
  {
   "cell_type": "markdown",
   "metadata": {},
   "source": [
    "### i.1 Bewertungsgrundlagen\n",
    "- Eine Klausur pro Semester\n",
    "- eventuell GFS \n",
    "- schriftliche Leistungen: 60%\n",
    "- unterrichtspraktische Leistungen: 40%\n",
    "  \n",
    "  = mündliche Leistungen + Programmierleistung + Mitarbeit"
   ]
  },
  {
   "cell_type": "markdown",
   "metadata": {},
   "source": [
    "#### i.1.1 Klausuren\n",
    "- Korrekturzeichen\n",
    "\n",
    "<img src=\"../images/Korrekturzeichen.png\"\n",
    "    style=\"padding-left: 2.5em\"\n",
    "/>\n",
    "\n",
    "- sprachliche Korrekturzeichen\n",
    "\n",
    "<img src=\"../images/sprachliche_Korrekturzeichen.png\"\n",
    "     style=\"padding-left: 2.5em\"\n",
    "/>\n",
    "\n",
    "- Notentabelle\n",
    "\n",
    "<img src=\"../images/BE-NP-Notentabelle.png\"\n",
    "     style=\"padding-left: 2.5em\"\n",
    "/>\n",
    "\n",
    "\n",
    "#### i.1.2 GFS\n",
    "- Anmeldung immer zu Halbjahresbeginn\n",
    "- Vortrag 10 bis 15 Minuten\n",
    "- eventuelle 5 Minuten Übungen\n",
    "- 10 Minuten Kolloquium und Übungen\n",
    "- 10 Minuten Kolloquium\n",
    "- Nur eine GFS pro Person\n",
    "\n",
    "#### i.1.3 Unterrichtspraktische Leistungen\n",
    "- Fragen\n",
    "- Antworten\n",
    "- Aufgabenkontrolle\n",
    "- Mitarbeit\n"
   ]
  },
  {
   "cell_type": "markdown",
   "metadata": {},
   "source": [
    "### i.2 Obligatorische Materialien\n",
    "- Heft oder Ordner mit karierten Blättern\n",
    "- iPad"
   ]
  },
  {
   "cell_type": "markdown",
   "metadata": {},
   "source": [
    "### i.3 Inhalte\n",
    "1. Informatik I: Einführung in die Programmierung mit Python\n",
    "2. Informatik II: Algorithmen\n",
    "3. Informatik III: Theoretische Informatik, A.I. und neuronale Netze\n",
    "4. Informatik IV: Datenbanken"
   ]
  },
  {
   "cell_type": "markdown",
   "metadata": {},
   "source": [
    "### i.4 Dokumente auf GitHub\n",
    "\n",
    "Die Skripte sind zu finden unter\n",
    "\n",
    "https://github.com/MHundi/Informatik_I_2025"
   ]
  },
  {
   "cell_type": "markdown",
   "metadata": {},
   "source": []
  }
 ],
 "metadata": {
  "kernelspec": {
   "display_name": "Python 3",
   "language": "python",
   "name": "python3"
  },
  "language_info": {
   "codemirror_mode": {
    "name": "ipython",
    "version": 3
   },
   "file_extension": ".py",
   "mimetype": "text/x-python",
   "name": "python",
   "nbconvert_exporter": "python",
   "pygments_lexer": "ipython3",
   "version": "3.11.4"
  },
  "orig_nbformat": 4
 },
 "nbformat": 4,
 "nbformat_minor": 2
}
