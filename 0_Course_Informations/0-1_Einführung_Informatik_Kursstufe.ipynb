{
 "cells": [
  {
   "cell_type": "raw",
   "metadata": {
    "vscode": {
     "languageId": "raw"
    }
   },
   "source": [
    "---\n",
    "format:\n",
    "  pdf:\n",
    "    pdf-engine: xelatex\n",
    "    documentclass: scrartcl\n",
    "    papersize: a4\n",
    "    fontsize: 11pt\n",
    "    geometry: top=3cm, bottom=2cm, left=4cm, right=2cm\n",
    "    fig-align: center\n",
    "    colorlinks: true\n",
    "    code-line-numbers: true\n",
    "    keep-tex: true\n",
    "    include-in-header:\n",
    "      - text: |\n",
    "          \\usepackage[document]{ragged2e}\n",
    "\n",
    "  beamer:\n",
    "    aspectratio: 169\n",
    "    navigation: horizontal\n",
    "    theme: Singapore\n",
    "    colortheme: orchid\n",
    "    toc: false\n",
    "    code-line-numbers: true\n",
    "    echo: false\n",
    "    fontsize: 25pt\n",
    "  \n",
    "  html:\n",
    "    standalone: true\n",
    "    section-divs: true\n",
    "    html-math-method: mathjax\n",
    "    wrap: none\n",
    "    default-image-extension: png\n",
    "\n",
    "execute: \n",
    "  enabled: true\n",
    "  echo: false\n",
    "Jupyter: python3\n",
    "\n",
    "mainfont: Avenir Next\n",
    "---"
   ]
  },
  {
   "cell_type": "markdown",
   "metadata": {},
   "source": [
    "# 0.1 Informatik in der Kursstufe "
   ]
  },
  {
   "cell_type": "markdown",
   "metadata": {},
   "source": [
    "## Bewertungsgrundlagen\n",
    "- Eine Klausur pro Semester\n",
    "- eventuell GFS \n",
    "- schriftliche Leistungen: 60%\n",
    "- unterrichtspraktische Leistungen: 40% = mündliche Leistungen + Programmierleistung + Mitarbeit"
   ]
  },
  {
   "cell_type": "markdown",
   "metadata": {},
   "source": [
    "## Klausuren\n",
    "### Korrekturzeichen\n",
    "| Korrekturzeichen | Bedeutung |\n",
    "| :--------------: | :-------|\n",
    "D  | Denkfehler\n",
    "FS | Fachsprache\n",
    "Log | Logikfehler\n",
    "R   | Rechenfehler\n",
    "S  | Schreibfehler\n",
    "Syn | Syntaxfehler\n",
    "uv  | unvollständig\n",
    "Vz  | Vorzeichenfehler\n",
    "ug | ungenau\n",
    "r   | richtiges Zwischenergebenis\n",
    "(r) | richtiges Zwischenergebnis nach Fehler\n",
    "\n",
    "\n",
    "### sprachliche Korrekturzeichen\n",
    "\n",
    "|  Korrekturzeichen   |   Bedeutung        |\n",
    "| :-: | :-------|\n",
    "Gr | Grammatikfehler\n",
    "Rs | Rechtschreibfehler\n",
    "Z  | Zeichensetzungsfehler\n",
    "\n",
    "\n",
    "### Notentabelle\n",
    "\n",
    "| Bewertungseinheiten (%) | Bewertungseinheiten (BE) | Punkte | Note |\n",
    "|:-----------------------:|:------------------------:|:------:|:----:|\n",
    "| 95-100 | 120-114 | 15 | 1+ |\n",
    "| 90-94 | 113-108| 14 | 1 |\n",
    "| 85-89 | 107-102 | 13 | 1- |\n",
    "| 80-84 | 101-96 | 12 | 2+ |\n",
    "| 75-79 | 95-90 | 11 | 2 |\n",
    "| 70-74 | 89-84 | 10 | 2- |\n",
    "| 65-69 | 83-78 | 9 | 3+ |\n",
    "| 60-64 | 77-72 | 8 | 3 |\n",
    "| 55-59 | 71-66 | 7 | 3- |\n",
    "| 50-54 | 65-60 | 6 | 4+ |\n",
    "| 45-49 | 59-54 | 5 | 4 |\n",
    "| 40-44 | 53-48 | 4 | 4- |\n",
    "| 33-39 | 47-40 | 3 | 5+ |\n",
    "| 27-32 | 39-32 | 2 | 5 |\n",
    "| 20-26 | 31-24 | 1 | 5- |\n",
    "| 0-19 | 23-0 | 0 | 6 |\n",
    "\n",
    "### Operatoren\n",
    "\n",
    "| Operator | Beschreibung | Anforderungsbereich |\n",
    "|:---------|:-------------|:------------------:|\n",
    "| **analysieren** | Strukturen und Zusammenhänge herausarbeiten und darstellen | II |\n",
    "| **angeben** | Sachverhalte ohne Erläuterung auflisten | I |\n",
    "| **begründen** | Aussagen durch Argumente stützen | II |\n",
    "| **beschreiben** | Sachverhalte strukturiert wiedergeben | I |\n",
    "| **beurteilen** | Aussagen/Verfahren an Kriterien messen und Ergebnis formulieren | III |\n",
    "| **bewerten** | Eigenes Urteil zu einem Sachverhalt formulieren und begründen | III |\n",
    "| **darstellen** | Sachverhalte strukturiert wiedergeben | I |\n",
    "| **dokumentieren** | Alle relevanten Erklärungen, Herleitungen und Skizzen angeben | II |\n",
    "| **entscheiden** | Begründete Auswahl zwischen Alternativen treffen | III |\n",
    "| **entwerfen** | Konzept oder Modell zu vorgegebenen Kriterien entwickeln | III |\n",
    "| **entwickeln** | Schrittweise Herleitung einer Lösung oder eines Programms | III |\n",
    "| **erklären** | Sachverhalte durch Wissen und Einsichten verständlich machen | II |\n",
    "| **erläutern** | Sachverhalte veranschaulichen und durch Beispiele verdeutlichen | II |\n",
    "| **ermitteln** | Sachverhalte durch Berechnung oder Interpretation bestimmen | II |\n",
    "| **erstellen** | Programm, Diagramm oder Tabelle anfertigen | II |\n",
    "| **implementieren** | Algorithmus in einer Programmiersprache umsetzen | II |\n",
    "| **modellieren** | Realen Sachverhalt in formaler Darstellung beschreiben | III |\n",
    "| **nennen** | Sachverhalte ohne Erläuterung angeben | I |\n",
    "| **prüfen** | Aussagen oder Lösungsansätze auf Korrektheit untersuchen | II |\n",
    "| **vergleichen** | Gemeinsamkeiten und Unterschiede herausarbeiten | II |\n",
    "| **vervollständigen** | Unvollständige Angaben sinnvoll ergänzen | II |\n",
    "\n",
    "\n",
    "\n",
    "\n",
    "## GFS\n",
    "- Anmeldung immer zu Halbjahresbeginn\n",
    "- Vortrag 10 bis 15 Minuten\n",
    "- eventuelle 5 Minuten Übungen\n",
    "- 10 Minuten Kolloquium und Übungen\n",
    "- 10 Minuten Kolloquium\n",
    "- Nur eine GFS pro Person\n",
    "\n",
    "## Unterrichtspraktische Leistungen\n",
    "- Fragen\n",
    "- Antworten\n",
    "- Aufgabenkontrolle\n",
    "- Mitarbeit\n",
    "- Programmierleistung\n"
   ]
  },
  {
   "cell_type": "markdown",
   "metadata": {},
   "source": [
    "### Obligatorische Materialien\n",
    "- Heft oder Ordner mit karierten Blättern für Notizen"
   ]
  },
  {
   "cell_type": "markdown",
   "metadata": {},
   "source": [
    "### Inhalte\n",
    "1. Informatik I: Einführung in die Programmierung mit Python\n",
    "2. Informatik II: Algorithmen\n",
    "3. Informatik III: Theoretische Informatik, A.I. und neuronale Netze\n",
    "4. Informatik IV: Datenbanken"
   ]
  },
  {
   "cell_type": "markdown",
   "metadata": {},
   "source": [
    "### Dokumente auf GitHub\n",
    "\n",
    "Die Skripte sind zu finden unter\n",
    "\n",
    "https://github.com/MHundi/Informatik_I_2025"
   ]
  },
  {
   "cell_type": "markdown",
   "metadata": {},
   "source": []
  }
 ],
 "metadata": {
  "kernelspec": {
   "display_name": "3.13.5",
   "language": "python",
   "name": "python3"
  },
  "language_info": {
   "codemirror_mode": {
    "name": "ipython",
    "version": 3
   },
   "file_extension": ".py",
   "mimetype": "text/x-python",
   "name": "python",
   "nbconvert_exporter": "python",
   "pygments_lexer": "ipython3",
   "version": "3.13.5"
  }
 },
 "nbformat": 4,
 "nbformat_minor": 2
}
