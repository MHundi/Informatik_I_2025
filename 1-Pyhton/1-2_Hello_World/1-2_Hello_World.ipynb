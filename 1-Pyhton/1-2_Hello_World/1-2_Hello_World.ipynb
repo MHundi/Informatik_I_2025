{
 "cells": [
  {
   "cell_type": "raw",
   "metadata": {
    "vscode": {
     "languageId": "raw"
    }
   },
   "source": [
    "---\n",
    "format:\n",
    "  pdf:\n",
    "    pdf-engine: xelatex\n",
    "    documentclass: scrartcl\n",
    "    papersize: a4\n",
    "    fontsize: 11pt\n",
    "    geometry: top=3cm, bottom=2cm, left=4cm, right=2cm\n",
    "    fig-align: center\n",
    "    colorlinks: true\n",
    "    code-line-numbers: true\n",
    "    keep-tex: true\n",
    "    include-in-header:\n",
    "      - text: |\n",
    "          \\usepackage[document]{ragged2e}\n",
    "\n",
    "  beamer:\n",
    "    aspectratio: 169\n",
    "    navigation: horizontal\n",
    "    theme: Singapore\n",
    "    colortheme: orchid\n",
    "    toc: false\n",
    "    code-line-numbers: true\n",
    "    echo: true\n",
    "    fontsize: 25pt\n",
    "  \n",
    "  html:\n",
    "    standalone: true\n",
    "    section-divs: true\n",
    "    html-math-method: mathjax\n",
    "    wrap: none\n",
    "    default-image-extension: png\n",
    "\n",
    "execute: \n",
    "  enabled: true\n",
    "  echo: true\n",
    "Jupyter: python3\n",
    "\n",
    "mainfont: Avenir Next\n",
    "---"
   ]
  },
  {
   "cell_type": "markdown",
   "metadata": {},
   "source": [
    "# 2. Hello World Python\n",
    "\n",
    "## 2.1 Kurze Geschichte der Programmiersprachen \n",
    "\n",
    "1. Generation: Programmierung im Maschinencode.\n",
    "\n",
    "2. Generation: Assemblersprachen und erste Entwicklung höherer Programmiersprachen wie FORTRAN, ALGOL und COBOL.\n",
    "\n",
    "3. Generation: Entwicklung von Betriebssytemen mit Dialogbetrieb, Datenbanken, Methoden der strukturierten Programmierung, Programmiersprache Pascal\n",
    "\n",
    "4. Generation: verteilte Systeme, Rechnernetze, Kommunikationsfähigkeit, gute Arbeits- und Programmierumgebungen;\n",
    "\n",
    "5. Generation: Wissensverarbeitung, automatisches Schlussfolgern, deduktive Datenbanken, Expertensysteme, PROLOG.\n",
    "\n",
    "Heute gibt es eine unübersehbare Fülle von Programmiersprachen, für die verschiedensten Anwendungsgebiete. Nur wenige Programmiersprachen haben jedoch als universell verwendbare Sprachen einen hohen Verbreitungsgrad in der industriellen Praxis erreicht.\n",
    "\n",
    "Programmiersprachen werden üblicherweise Sprachen in folgende vier großen Klassen zu unterteilen:\n",
    "\n",
    "1. Imperative Sprachen: Beispiele sind Basic, Algol, Pascal, FORTRAN, C, Modula\n",
    "\n",
    "2. Funktionale Sprachen: Beispiele sind LISP, ML, Haskell\n",
    "\n",
    "3. Logische Sprachen: Hier ist PROLOG das bekannteste Beispiel\n",
    "\n",
    "4. Objektorientierte Sprachen: Smalltalk, Simula, C++ und Java gehören in diese Klasse.\n",
    "\n",
    "Und Python? Dazu später.\n",
    "\n",
    "Die Zuordnung einer Sprache zu einer dieser Klassen ist nicht immer eindeutig möglich. So haben beispielsweise die objektorientierten Sprachen C++ und Java einen imperativen Sprachkern und könnten so ebenso der Klasse der imperativen Sprachen zugeordnet werden. Die vier Sprachklassen kennzeichnen daher eher einen gewissen Programmier-Stil und weniger die Ausdrucksfähigkeit einer bestimmten Sprache."
   ]
  },
  {
   "cell_type": "markdown",
   "metadata": {},
   "source": [
    "## 2.2 Kurze Geschiche von Python\n",
    "\n",
    "- Python wurde von dem niederländischen Informatiker Guido van Rossum entwickelt\n",
    "- Die Entwicklung begann Ende der 1980er Jahre als Hobbyprojekt \n",
    "  \n",
    "![](images/nosnake.jpg){width=250px}\n",
    "![](images/montypython.jpg){width=250px}\n",
    "\n",
    "\n"
   ]
  },
  {
   "cell_type": "markdown",
   "metadata": {},
   "source": [
    "- Der Name sollte kurz, einprägsam und etwas unkonventionell sein, um die Philosophie von Python widerzuspiegeln. van Rossum war ein großer Fan der britischen Comedy-Show \"Monty Python's Flying Circus\", daher der Name \"Python\".\n",
    "  \n",
    "- Meilensteine:\n",
    "  \n",
    "    - **Python 0.9.0 (1991)** Die erste Version, Python 0.9.0, wurde im Februar 1991 veröffentlicht.\n",
    "    - **Python 1.0 (1994):** Die erste offizielle Version von Python wurde veröffentlicht und legte den Grundstein für die weitere Entwicklung der Sprache.\n",
    "    - **Python 2.0 (2000):** List Comprehensions wurden eingeführt, um das Erstellen von Listen auf eine elegante und kompakte Weise zu ermöglichen.\n",
    "    - **Gründung der Python Software Foundation (PSF) (2001):** Die PSF wurde gegründet, um die Weiterentwicklung und Verbreitung von Python zu unterstützen. Sie spielt eine wichtige Rolle in der Förderung und Verwaltung der Python-Community.\n",
    "    - **Python 3.x (2008):** Python 3.0 wurde veröffentlicht und führte tiefgreifende Veränderungen in der Sprache ein, um einige Probleme und Unklarheiten in Python 2.x zu beheben. Diese Versionen existierten eine Zeit lang nebeneinander, was zu Diskussionen in der Community führte.\n",
    "\n"
   ]
  },
  {
   "cell_type": "markdown",
   "metadata": {},
   "source": [
    "## 2.3 Eigenschaften von Python\n",
    "\n",
    "**Allgemein**\n",
    "\n",
    "- einfach erlernbar und lesbar\n",
    "- Interpreter-basiert\n",
    "- plattformunabhängig\n",
    "- Open Source \n",
    "\n",
    "**Sprachparadigmen:**\n",
    "- imperativ: Ein Programm besteht aus einer Folge von Anweisungen (Befehlen), die den Zustand des Programms Schritt für Schritt verändern.\n",
    "- prozedural: Ein Programm wird in Prozeduren (auch Funktionen oder Routinen genannt) unterteiltS. Sie ist eine Unterform der imperativen Programmierung. Dabei wird der Code in wiederverwendbare, logisch zusammengehörige Blöcke aufgeteilt, die bestimmte Aufgaben übernehmen.\n",
    "- objektorientiert: Python unterstützt Klassen, Objekte, Vererbung usw.\n",
    "- funktional: Ein Programme kann durch das Anwenden und Kombinieren von Funktionen aufgebaut werden. Python ist aber nicht rein funktional.\n",
    "- dynamisch typisiert: Keine Typdeklarationen notwendig. Der Typ eines Variablen wird beim Verarbeiten des Programms bestimmt.\n",
    "\n",
    "$\\Rightarrow$ Python ist eine Mehrparadigmen-Programmiersprache, die verschiedene Programmieransätze unterstützt.\n"
   ]
  },
  {
   "cell_type": "markdown",
   "metadata": {},
   "source": [
    "## 2.4 Der Python-Interpreter\n",
    "\n",
    "\n",
    "**Compilierte Sprachen vs interpretierte Sprache**\n",
    "\n",
    "Python ist eine interpretierte Programmiersprache. Im Gegensatz zu compilierten Sprachen, bei denen der Quellcode vom Compiler in Maschinencode übersetzt wird, der direkt vom Prozessor ausgeführt werden kann, wird bei Python com Compiler ein sogenannter Bytecode erzeugt. Dieser Bytecode wird anschließend vom Python-Interpreter zeilenweise ausgeführt. Das ermöglicht eine schnelle Entwicklung, einfaches Debugging und hohe Flexibilität während des Programmierens. Insbesondere kann man auf diese Weise plattformunabhängig programmieren, da der Python-Interpreter (PVM = Python-Virtual-Machine) auf verschiedenen Betriebssystemen verfügbar ist.\n",
    "\n",
    "Ablauf compilierte Sprachen vs interpretierte Sprachen:\n",
    "\n",
    "![Abbildung](images/compiler.jpg){width=150px}\n",
    "![Abbildung](images/interpreter.jpg){width=220px}\n",
    "\n",
    "\n",
    "**direkte Kommunikation mit dem Python Interpreter**\n",
    "\n",
    "Die direkte Kommunikation mit Python bezeichnet die unmittelbare Interaktion mit der Sprache. Dies geschieht beispielsweise über den Python-Interpreter oder interaktive Entwicklungsumgebungen wie Jupyter Notebooks. In solchen Umgebungen kann Python-Code direkt eingegeben und ausgeführt werden, wodurch sofort Ergebnisse sichtbar werden. Das ist besonders hilfreich zum Testen von Code, zum Experimentieren mit Funktionen und zum Erlernen der Sprache.\n",
    "\n",
    "Aufruf des Python-Interpreters:\n",
    "\n",
    "```zsh\n",
    "python3\n",
    "``` "
   ]
  },
  {
   "cell_type": "code",
   "execution_count": 1,
   "metadata": {},
   "outputs": [
    {
     "name": "stdout",
     "output_type": "stream",
     "text": [
      "Hello World\n"
     ]
    }
   ],
   "source": [
    "print(\"Hello World\")\n"
   ]
  },
  {
   "cell_type": "markdown",
   "metadata": {},
   "source": [
    "## 2.5 Skripte in Python\n",
    "\n",
    "Neben der Möglichkeit im Terminal oder mit Jupyter direkt mit dem Python interpreter zu kommunizieren, gibt es die Möglichkeit eine Quellcodedatei zu erstellen, ein Skript und diese dann insgesamt zum Python-Compiler zu übergeben.\n",
    "\n",
    "Datei:\n",
    "hello_world.py\n",
    "\n",
    "```python\n",
    "    print(\"Hello World\")\n",
    "```\n",
    "Comililierung und Ausführung des Skripts:\n",
    "\n",
    "```terminal\n",
    "> python3 hello.world.py\n",
    "```"
   ]
  },
  {
   "cell_type": "markdown",
   "metadata": {},
   "source": []
  }
 ],
 "metadata": {
  "kernelspec": {
   "display_name": "3.13.5",
   "language": "python",
   "name": "python3"
  },
  "language_info": {
   "codemirror_mode": {
    "name": "ipython",
    "version": 3
   },
   "file_extension": ".py",
   "mimetype": "text/x-python",
   "name": "python",
   "nbconvert_exporter": "python",
   "pygments_lexer": "ipython3",
   "version": "3.13.5"
  }
 },
 "nbformat": 4,
 "nbformat_minor": 2
}
