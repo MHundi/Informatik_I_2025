{
 "cells": [
  {
   "cell_type": "raw",
   "metadata": {
    "vscode": {
     "languageId": "raw"
    }
   },
   "source": [
    "---\n",
    "format:\n",
    "  pdf:\n",
    "    pdf-engine: xelatex\n",
    "    documentclass: scrartcl\n",
    "    papersize: a4\n",
    "    fontsize: 11pt\n",
    "    geometry: top=3cm, bottom=2cm, left=4cm, right=2cm\n",
    "    fig-align: center\n",
    "    colorlinks: true\n",
    "    code-line-numbers: true\n",
    "    keep-tex: true\n",
    "    include-in-header:\n",
    "      - text: |\n",
    "          \\usepackage[document]{ragged2e}\n",
    "\n",
    "  beamer:\n",
    "    aspectratio: 169\n",
    "    navigation: horizontal\n",
    "    theme: Singapore\n",
    "    colortheme: orchid\n",
    "    toc: false\n",
    "    code-line-numbers: true\n",
    "    echo: false\n",
    "    fontsize: 25pt\n",
    "  \n",
    "  html:\n",
    "    standalone: true\n",
    "    section-divs: true\n",
    "    html-math-method: mathjax\n",
    "    wrap: none\n",
    "    default-image-extension: png\n",
    "\n",
    "execute: \n",
    "  enabled: true\n",
    "  echo: true\n",
    "Jupyter: python3\n",
    "\n",
    "mainfont: Avenir Next\n",
    "---"
   ]
  },
  {
   "cell_type": "markdown",
   "metadata": {},
   "source": [
    "# 1. Das Setup"
   ]
  },
  {
   "cell_type": "markdown",
   "metadata": {},
   "source": [
    "## 1.1 Die Shell\n",
    "\n",
    "= Terminal, Eingabeaufforderung\n",
    "\n",
    "- Beispiele: bash, zsh\n",
    "- direkte Anweisungen an das Betriebssystem\n",
    "- mehr Möglichkeiten, mehr Kontrolle \n",
    "- Programme ausführen\n",
    "- schneller als Mausbedienung\n",
    "- grundlegende Terminal-Befehle:\n",
    "  \n",
    "\n",
    "| Befehl  | Beschreibung                                                   |\n",
    "|---------|----------------------------------------------------------------|\n",
    "| `ls`    | list – Inhalt eines Ordners anzeigen                           |\n",
    "| `cd`    | change directory – Ordner wechseln                             |\n",
    "| `pwd`   | print working directory                                        |\n",
    "| `mkdir` | make directory – Ordner erstellen                              |\n",
    "| `cp`    | copy – Dateien oder Ordner kopieren                            |\n",
    "| `mv`    | move – verschieben oder umbenennen                             |\n",
    "| `rm`    | remove – löschen von Dateien oder Ordnern                      |\n",
    "| `nano`  | kleiner Editor                                                 |\n",
    "| `man`   | manual – Hilfe anzeigen                                        |\n",
    "| `touch` | Datei anlegen oder Timestamp aktualisieren                     |\n",
    "  \n",
    "\n",
    "  \n",
    "- Programme:\n",
    "  \n",
    "  - top: Übersicht über Prozesse\n",
    "  - vim: Texteditor\n",
    "  - python3: Python-Interpretor"
   ]
  },
  {
   "cell_type": "markdown",
   "metadata": {},
   "source": [
    "- Beispiel:"
   ]
  },
  {
   "cell_type": "code",
   "execution_count": 1,
   "metadata": {},
   "outputs": [
    {
     "name": "stdout",
     "output_type": "stream",
     "text": [
      "/Users/martin/Workspace\n"
     ]
    }
   ],
   "source": [
    "cd ~/workspace\n"
   ]
  },
  {
   "cell_type": "markdown",
   "metadata": {},
   "source": [
    "Zeige Inhalte des aktuellen Ordners mit `ls` an."
   ]
  },
  {
   "cell_type": "code",
   "execution_count": 2,
   "metadata": {},
   "outputs": [
    {
     "name": "stdout",
     "output_type": "stream",
     "text": [
      "\u001b[34mJava_Projects\u001b[m\u001b[m/     \u001b[34mLecture_Projects\u001b[m\u001b[m/  text.txt\r\n",
      "\u001b[34mJupyter_Notebooks\u001b[m\u001b[m/ \u001b[34mSQL_Projects\u001b[m\u001b[m/      \u001b[34mvscode setup\u001b[m\u001b[m/\r\n"
     ]
    }
   ],
   "source": [
    "ls"
   ]
  },
  {
   "cell_type": "markdown",
   "metadata": {},
   "source": [
    "Erweiterte Anzeige mit Rechten, Besizter, Gruppe, Größe, Zeitstempel"
   ]
  },
  {
   "cell_type": "code",
   "execution_count": 3,
   "metadata": {},
   "outputs": [
    {
     "name": "stdout",
     "output_type": "stream",
     "text": [
      "total 24\r\n",
      "drwx------@ 11 martin  staff    352 Aug 12 10:35 \u001b[34m.\u001b[m\u001b[m/\r\n",
      "drwxr-x---+ 72 martin  staff   2304 Aug 12 10:35 \u001b[34m..\u001b[m\u001b[m/\r\n",
      "-rw-r--r--@  1 martin  staff  10244 Aug  7 17:29 .DS_Store\r\n",
      "drwxr-xr-x   2 martin  staff     64 Mar 25  2024 \u001b[34m.ipynb_checkpoints\u001b[m\u001b[m/\r\n",
      "drwxr-xr-x   4 martin  staff    128 Apr 21  2024 \u001b[34m.vscode\u001b[m\u001b[m/\r\n",
      "drwx------@  8 martin  staff    256 Aug  7 16:45 \u001b[34mJava_Projects\u001b[m\u001b[m/\r\n",
      "drwxr-xr-x@ 10 martin  staff    320 Jan 30  2025 \u001b[34mJupyter_Notebooks\u001b[m\u001b[m/\r\n",
      "drwxr-xr-x   7 martin  staff    224 Jul 23 09:01 \u001b[34mLecture_Projects\u001b[m\u001b[m/\r\n",
      "drwxr-xr-x   9 martin  staff    288 Jan 26  2025 \u001b[34mSQL_Projects\u001b[m\u001b[m/\r\n",
      "-rw-r--r--@  1 martin  staff      0 Aug 12 10:35 text.txt\r\n",
      "drwxr-xr-x@  3 martin  staff     96 Feb 14 12:46 \u001b[34mvscode setup\u001b[m\u001b[m/\r\n"
     ]
    }
   ],
   "source": [
    "ls -al"
   ]
  },
  {
   "cell_type": "markdown",
   "metadata": {},
   "source": [
    "Name des aktuellen Ornders"
   ]
  },
  {
   "cell_type": "code",
   "execution_count": 4,
   "metadata": {},
   "outputs": [
    {
     "data": {
      "text/plain": [
       "'/Users/martin/Workspace'"
      ]
     },
     "execution_count": 25,
     "metadata": {},
     "output_type": "execute_result"
    }
   ],
   "source": [
    "pwd"
   ]
  },
  {
   "cell_type": "markdown",
   "metadata": {},
   "source": [
    "Neue Verzeichnis mit Namen \"mydata\" erstellen."
   ]
  },
  {
   "cell_type": "code",
   "execution_count": 5,
   "metadata": {},
   "outputs": [],
   "source": [
    "mkdir mydata"
   ]
  },
  {
   "cell_type": "markdown",
   "metadata": {},
   "source": [
    "Überprüfen, ob der neue Ornder auch angelegt worden ist."
   ]
  },
  {
   "cell_type": "code",
   "execution_count": 6,
   "metadata": {},
   "outputs": [
    {
     "name": "stdout",
     "output_type": "stream",
     "text": [
      "total 24\r\n",
      "drwx------@ 12 martin  staff    384 Aug 12 10:37 \u001b[34m.\u001b[m\u001b[m/\r\n",
      "drwxr-x---+ 72 martin  staff   2304 Aug 12 10:35 \u001b[34m..\u001b[m\u001b[m/\r\n",
      "-rw-r--r--@  1 martin  staff  10244 Aug  7 17:29 .DS_Store\r\n",
      "drwxr-xr-x   2 martin  staff     64 Mar 25  2024 \u001b[34m.ipynb_checkpoints\u001b[m\u001b[m/\r\n",
      "drwxr-xr-x   4 martin  staff    128 Apr 21  2024 \u001b[34m.vscode\u001b[m\u001b[m/\r\n",
      "drwx------@  8 martin  staff    256 Aug  7 16:45 \u001b[34mJava_Projects\u001b[m\u001b[m/\r\n",
      "drwxr-xr-x@ 10 martin  staff    320 Jan 30  2025 \u001b[34mJupyter_Notebooks\u001b[m\u001b[m/\r\n",
      "drwxr-xr-x   7 martin  staff    224 Jul 23 09:01 \u001b[34mLecture_Projects\u001b[m\u001b[m/\r\n",
      "drwxr-xr-x@  2 martin  staff     64 Aug 12 10:37 \u001b[34mmydata\u001b[m\u001b[m/\r\n",
      "drwxr-xr-x   9 martin  staff    288 Jan 26  2025 \u001b[34mSQL_Projects\u001b[m\u001b[m/\r\n",
      "-rw-r--r--@  1 martin  staff      0 Aug 12 10:35 text.txt\r\n",
      "drwxr-xr-x@  3 martin  staff     96 Feb 14 12:46 \u001b[34mvscode setup\u001b[m\u001b[m/\r\n"
     ]
    }
   ],
   "source": [
    "ls -al"
   ]
  },
  {
   "cell_type": "markdown",
   "metadata": {},
   "source": [
    "In den neune Ornder \"mydata\" wechseln."
   ]
  },
  {
   "cell_type": "code",
   "execution_count": 7,
   "metadata": {},
   "outputs": [
    {
     "name": "stdout",
     "output_type": "stream",
     "text": [
      "/Users/martin/Workspace/mydata\n"
     ]
    }
   ],
   "source": [
    "cd mydata"
   ]
  },
  {
   "cell_type": "markdown",
   "metadata": {},
   "source": [
    "Inhalt des Ordners \"mydata\" anzeigen. Er ist leer."
   ]
  },
  {
   "cell_type": "code",
   "execution_count": 8,
   "metadata": {},
   "outputs": [],
   "source": [
    "ls"
   ]
  },
  {
   "cell_type": "markdown",
   "metadata": {},
   "source": [
    "Neue Datei namens text.txt. erstellen."
   ]
  },
  {
   "cell_type": "code",
   "execution_count": 9,
   "metadata": {},
   "outputs": [],
   "source": [
    "!touch text.txt"
   ]
  },
  {
   "cell_type": "markdown",
   "metadata": {},
   "source": [
    "Überprüfen, ob die neue Datei auch vorhanden ist."
   ]
  },
  {
   "cell_type": "code",
   "execution_count": 10,
   "metadata": {},
   "outputs": [
    {
     "name": "stdout",
     "output_type": "stream",
     "text": [
      "text.txt\r\n"
     ]
    }
   ],
   "source": [
    "ls "
   ]
  },
  {
   "cell_type": "markdown",
   "metadata": {},
   "source": [
    "Aus dem Ornder \"mydata\" in den übergeordneten Ordner mit einer relativen (zum aktuellen Ordner) Pfad wechseln. Der übergeordente Ordner wird mit .. adressiert. "
   ]
  },
  {
   "cell_type": "code",
   "execution_count": 11,
   "metadata": {},
   "outputs": [
    {
     "name": "stdout",
     "output_type": "stream",
     "text": [
      "/Users/martin/Workspace\n"
     ]
    }
   ],
   "source": [
    "cd .."
   ]
  },
  {
   "cell_type": "markdown",
   "metadata": {},
   "source": [
    "Weiteres Beispiel eines relativen (relativ zum aktuellen Ornder) Pfades."
   ]
  },
  {
   "cell_type": "code",
   "execution_count": 12,
   "metadata": {},
   "outputs": [
    {
     "name": "stdout",
     "output_type": "stream",
     "text": [
      "/Users/martin\n"
     ]
    }
   ],
   "source": [
    "cd mydata/../.."
   ]
  },
  {
   "cell_type": "code",
   "execution_count": 13,
   "metadata": {},
   "outputs": [],
   "source": []
  },
  {
   "cell_type": "markdown",
   "metadata": {},
   "source": [
    "Aus dem aktuellen Ornder in den Unter- Unterordner \"mydata\" wechseln."
   ]
  },
  {
   "cell_type": "code",
   "execution_count": 14,
   "metadata": {},
   "outputs": [
    {
     "name": "stdout",
     "output_type": "stream",
     "text": [
      "/Users/martin/Workspace/mydata\n"
     ]
    }
   ],
   "source": [
    "cd Workspace/mydata/"
   ]
  },
  {
   "cell_type": "markdown",
   "metadata": {},
   "source": [
    "Der akuteller Ordner ist nun \"mydata\". In ihm befindet sich die Datei \"text.txt\". Diese soll mit der Anweisung `cp` in den übergordneten Ordner kopiert werden. \n",
    "\n",
    "allgemeine Syntax: `cp source-file target-file`"
   ]
  },
  {
   "cell_type": "code",
   "execution_count": 15,
   "metadata": {},
   "outputs": [],
   "source": [
    "cp text.txt .. "
   ]
  },
  {
   "cell_type": "markdown",
   "metadata": {},
   "source": [
    "Alternative: Man wechselt in den Zielornder und adressiert diesen mit .\n",
    "\n",
    "Syntax: `cp source-file .`\n",
    "\n",
    "Wir wechseln daher in den übergeordenten Ordner:"
   ]
  },
  {
   "cell_type": "code",
   "execution_count": 16,
   "metadata": {},
   "outputs": [
    {
     "name": "stdout",
     "output_type": "stream",
     "text": [
      "/Users/martin/Workspace\n"
     ]
    }
   ],
   "source": [
    "cd .."
   ]
  },
  {
   "cell_type": "markdown",
   "metadata": {},
   "source": [
    "und kopieren dann die Datei \"text.txt\" in diesen hinein."
   ]
  },
  {
   "cell_type": "code",
   "execution_count": 17,
   "metadata": {},
   "outputs": [],
   "source": [
    "cp mydata/text.txt ."
   ]
  },
  {
   "cell_type": "markdown",
   "metadata": {},
   "source": [
    "Überprüfung des Ergebnisses mit `ls`"
   ]
  },
  {
   "cell_type": "code",
   "execution_count": 18,
   "metadata": {},
   "outputs": [
    {
     "name": "stdout",
     "output_type": "stream",
     "text": [
      "\u001b[34mJava_Projects\u001b[m\u001b[m/     \u001b[34mLecture_Projects\u001b[m\u001b[m/  \u001b[34mSQL_Projects\u001b[m\u001b[m/      \u001b[34mvscode setup\u001b[m\u001b[m/\r\n",
      "\u001b[34mJupyter_Notebooks\u001b[m\u001b[m/ \u001b[34mmydata\u001b[m\u001b[m/            text.txt\r\n"
     ]
    }
   ],
   "source": [
    "ls"
   ]
  },
  {
   "cell_type": "markdown",
   "metadata": {},
   "source": [
    "Nun soll die doppelte Datei \"text.txt\" im Unterordner \"mydata\" gelöscht werden:"
   ]
  },
  {
   "cell_type": "code",
   "execution_count": 19,
   "metadata": {},
   "outputs": [],
   "source": [
    "rm mydata/text.txt"
   ]
  },
  {
   "cell_type": "code",
   "execution_count": 20,
   "metadata": {},
   "outputs": [],
   "source": [
    "ls mydata"
   ]
  },
  {
   "cell_type": "markdown",
   "metadata": {},
   "source": [
    "Welche Texte sind in der Datei \"text.txt\" gespeichert? Um in die Datei zu schauen, muss man einen Editor, am einfachsten einen Editor des Terminals verwenden."
   ]
  },
  {
   "cell_type": "markdown",
   "metadata": {},
   "source": [
    "Commandline Editoren:\n",
    "\n",
    "- vim: hohe Lernkurve, mächtig, wird von vielen Programmierern und Systemadministratoren verwendet.\n",
    "- Aufruf: `vim text.txt`\n",
    "- nano: intuitiver zu bedienen, nicht so mächtig. \n",
    "- Aufruf: `nano text.txt`"
   ]
  },
  {
   "cell_type": "markdown",
   "metadata": {},
   "source": [
    " Die Datei \"text.txt\" und den Ordner \"mydata\" benötigen wir nun nicht mehr und löschen diese. Anstatt die Datei \"text.txt\" mit dem Befehl `rm text.txt\"` und den Ordner mit dem Befehl `rmdir mydata`getrennt zu löschen, werden wir den Ordner samt   und Datei einzeln mit dem Befehl `rm`zu löschen, verwenden wir den Befehl `rmdir`mit dem Flag -R (R steth für rekursiv), der dafür sorgt, dass der Ordner mitsamt Inhalt gelöscht wird. Damit das funktioniert, darf der aktuelle Ordner nicht der zu löschende Ordner oder ein Unterordner sein."
   ]
  },
  {
   "cell_type": "code",
   "execution_count": 21,
   "metadata": {},
   "outputs": [],
   "source": [
    "rm -R mydata"
   ]
  },
  {
   "cell_type": "markdown",
   "metadata": {},
   "source": [
    "Informationen zu einem bestimmten Terminal-Befehl erhält man mit der `man`-Anweisung:\n"
   ]
  },
  {
   "cell_type": "code",
   "execution_count": 22,
   "metadata": {},
   "outputs": [],
   "source": [
    "man rmdir"
   ]
  },
  {
   "cell_type": "markdown",
   "metadata": {},
   "source": [
    "- [CheatSheat zum Terminal (pdf)](1_Programming_Introduction/1_Python_Programming/1-1_Setup/1-1_Setup.ipynb)"
   ]
  },
  {
   "cell_type": "markdown",
   "metadata": {},
   "source": [
    "## 1.2 Microsoft Visual Studio Code (VS Code)\n",
    "\n",
    "Visual Studio Code (VS Code) ist mehr als ein Texteditor, aber schlanker als eine vollwertige IDE. Es bietet komfortables Programmieren mit Features wie Autovervollständigung und Syntaxhervorhebung. Ein integriertes Terminal erleichtert den Workflow. Durch Extensions lässt sich VS Code flexibel erweitern und anpassen.\n",
    "\n",
    "[CheatSheet zu VS Code](1_Programming_Introduction/1_Python_Programming/1-1_Setup/1-1_CheatSheet_VSCode.pdf)\n"
   ]
  },
  {
   "cell_type": "markdown",
   "metadata": {},
   "source": [
    "\n",
    "### Extensions installieren\n",
    "\n",
    "In Visual Studio Code in der linken Leiste auf das Symbol mit den vier Quadraten drücken. In der Suchleiste folgende vier Extensions suchen und installieren:\n",
    "\n",
    "- Python\n",
    "- Pylance\n",
    "- Flake8\n",
    "-autopep8\n",
    "- Jupyter\n",
    "\n",
    "### VS-Code Extensions einrichten\n",
    "\n",
    "1. Settings (Einstellungen) öffnen. Nach Auto Save suchen (Suchfeld) und auf afterDelay stellen.\n",
    "\n",
    "2. Nach Type Checking Mode suchen und auf basic stellen.\n",
    "\n",
    "Nach Diagnostic Severity Overrides suchen und auf edit in settings.json drücken. Hier nach folgendem Eintrag suchen:\n",
    "\n",
    "    ` \"python.analysis.diagnosticSeverityOverrides\": {\n",
    "    },`\n",
    "\n",
    "und folgende zwei Einträge einfügen, sodass das ganze wie folgt aussieht:\n",
    "\n",
    "    `\"python.analysis.diagnosticSeverityOverrides\": {\n",
    "        \"reportGeneralTypeIssues\": \"information\",\n",
    "        \"reportWildcardImportFromLibrary\": \"none\"\n",
    "    },`\n",
    "\n",
    "settings.json wieder schließen.\n",
    "\n",
    "Nach autopep8 suchen und bei autopep8-Einstellunge Args auf Add Item drücken. Folgendes einfügen und anschließend auf OK drücken:\n",
    "\n",
    "`--ignore=F4,E123,E501,E704,E731,W5,C901`\n",
    "\n",
    "Nach Flake8 suchen und bei Flake8 Args auf Add Item drücken. Folgendes einfügen und anschließend auf OK drücken:\n",
    "\n",
    "`--ignore=F4,E123,E501,E704,E731,W5,C901`\n",
    "\n",
    "Nach Severity suchen und bei Flake8 Severity alle Einträge unter Value auf Warning setzen. Dazu rechts auf den Stift zum Bearbeiten drücken und bei Value Warning auswählen (auch hier wieder mit OK bestätigen)\n"
   ]
  },
  {
   "cell_type": "markdown",
   "metadata": {},
   "source": [
    "## 1.3 Jupyter Notebook \n",
    "\n",
    "- quelloffene und kostenlose WebAnwendung\n",
    "- Integriert\n",
    "    - Markdown Umgebung\n",
    "    - (Python) Umgebung\n",
    "- Verwendung von Data Scientists\n",
    "- Austausch von Daten\n",
    "- bis zu 40 Programmiersprachen werden unterstützt\n",
    "- Dokumente gut lesbar\n",
    "\n"
   ]
  },
  {
   "cell_type": "markdown",
   "metadata": {},
   "source": [
    "## 1.4 Markdown Language\n",
    "\n",
    "Mardown ist eine einfache Auszeichnungssprache. Sie ist leicht zu erlernen. Die wichtigsten Tags sind im Folgenden zusammengefasst.\n",
    "\n",
    "| Ergebnis                      | Markdown-Code                 |\n",
    "| ----------------------------- | ----------------------------- |\n",
    "| Überschrift 1                 | `# Überschrift 1`             |\n",
    "| Überschrift 2                 | `## Überschrift 2`            |\n",
    "| Überschrift 3                 | `### Überschrift 3`           |\n",
    "| Überschrift 4                 | `#### Überschrift 4`          |\n",
    "| Überschrift 5                 | `##### Überschrift 5`         |\n",
    "| **fetter Text**               | `**fetterText**`              |\n",
    "| *kursiver Text*               | `*kursiver Text*`             |\n",
    "| • Element                     | `* Element`                   |\n",
    "| > Zitat                       | `> Zitat`                     |\n",
    "| `InlineCode`                  | `` `InlineCode` ``            |\n",
    "| ```Codeblock```               | ```` ```Codeblock``` ````     |\n",
    "| ---  horizontale Linie        | `----`                        |\n",
    "| \\* escaped Stern              | `\\* escaped Stern`            |\n",
    "| - Element<br>  - Unterelement | `- Element\\n  - Unterelement` |\n",
    "\n",
    "\n",
    "\n",
    "[CheatSheat zu Markdown (pdf)](1_Programming_Introduction/1_Python_Programming/1-1_Setup/1-1_Markdown_CheatSheet.pdf)"
   ]
  },
  {
   "cell_type": "markdown",
   "metadata": {},
   "source": [
    "## 1.5 LaTeX\n",
    "\n",
    "LaTeX ist ein Textsatzsystem, das besonders für wissenschaftliche Arbeiten und Dokumente verwendet wird. Es eignet sich hervorragend zum Schreiben von Texten mit Formeln, Tabellen und Literaturverzeichnissen. Anders als in Word wird der Text in LaTeX mit Befehlen und Codes geschrieben.\n",
    "\n",
    "Innerhalb der Markdown-Umgebung kann LaTeX für mathematische Formeln verwendet werden. Hier sind einige grundlegende LaTeX-Befehle:\n",
    "\n",
    "\n",
    "| Beschreibung                                     | LaTeX-Befehl                                   |\n",
    "| ------------------------------------------------ | ---------------------------------------------- |\n",
    "| Inline-Formeln                                   | `$\\text{Formel} $`                             |\n",
    "| Block-Formeln                                    | `$$ \\text{Formel} $$`                          |\n",
    "| $\\alpha$                                         | `\\alpha`                                       |\n",
    "| $\\frac{z}{n}$                                    | `\\frac{z}{n}`                                  |\n",
    "| $\\sqrt{a}$                                       | `\\sqrt{a}`                                     |\n",
    "| $\\sum_{i=1}^{n} i$                               | `\\sum_{i=1}^{n} i`                             |\n",
    "| $\\int_{a}^{b} f(x) \\, dx$                        | `\\int_{a}^{b} f(x) \\, dx`                      |\n",
    "| $\\vec{v}$                                        | `\\vec{v}`                                      |\n",
    "| $\\begin{pmatrix} a & b \\\\ c & d \\end{pmatrix}$   | `\\begin{pmatrix} a & b \\\\ c & d \\end{pmatrix}` |\n",
    "| $\\begin{aligned} a &= b \\\\ c &= d \\end{aligned}$ | `\\begin{align} a &= b \\\\ c &= d \\end{align}`   |\n",
    "\n",
    "  [CheatSheat zu LaTeX (pdf)](1_Programming_Introduction/1_Python_Programming/1-1_Setup/1-1_Markdown_LaTeX_CheatSheet.pdf)\n"
   ]
  },
  {
   "cell_type": "markdown",
   "metadata": {},
   "source": [
    "## 1.6 Python Buch als Openbook \n",
    "\n",
    "[Johannes Ernesti, Peter Kaiser:  Python3. https://openbook.rheinwerk-verlag.de/python/index.html](https://openbook.rheinwerk-verlag.de/python/index.html)"
   ]
  },
  {
   "cell_type": "markdown",
   "metadata": {},
   "source": []
  }
 ],
 "metadata": {
  "kernelspec": {
   "display_name": "3.13.5",
   "language": "python",
   "name": "python3"
  },
  "language_info": {
   "codemirror_mode": {
    "name": "ipython",
    "version": 3
   },
   "file_extension": ".py",
   "mimetype": "text/x-python",
   "name": "python",
   "nbconvert_exporter": "python",
   "pygments_lexer": "ipython3",
   "version": "3.13.5"
  }
 },
 "nbformat": 4,
 "nbformat_minor": 2
}
